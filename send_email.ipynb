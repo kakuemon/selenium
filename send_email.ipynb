{
 "cells": [
  {
   "cell_type": "markdown",
   "metadata": {},
   "source": [
    "# Setup"
   ]
  },
  {
   "cell_type": "code",
   "execution_count": null,
   "metadata": {},
   "outputs": [],
   "source": [
    "!conda install selenium\n",
    "!conda install chromedriver-binary"
   ]
  },
  {
   "cell_type": "code",
   "execution_count": null,
   "metadata": {},
   "outputs": [],
   "source": [
    "from selenium import webdriver\n",
    "from selenium.webdriver.common.by import By\n",
    "from selenium.webdriver.support.ui import WebDriverWait\n",
    "from selenium.webdriver.support import expected_conditions as EC\n",
    "import pandas as pd\n",
    "from time import sleep"
   ]
  },
  {
   "cell_type": "markdown",
   "metadata": {},
   "source": [
    "### gmailアカウント情報"
   ]
  },
  {
   "cell_type": "code",
   "execution_count": null,
   "metadata": {},
   "outputs": [],
   "source": [
    "credentials = pd.read_json(\"credentials.json\")\n",
    "gmail_address = credentials[\"gmail\"][\"address\"]\n",
    "gmail_password = credentials[\"gmail\"][\"password\"]\n",
    "\n",
    "send_to = gmail_address\n",
    "title = 'selenium'\n",
    "text = 'このメールはseleniumにより送信されています。'"
   ]
  },
  {
   "cell_type": "markdown",
   "metadata": {},
   "source": [
    "# Chrome起動"
   ]
  },
  {
   "cell_type": "code",
   "execution_count": null,
   "metadata": {},
   "outputs": [],
   "source": [
    "#chrome起動\n",
    "driver = webdriver.Chrome()\n",
    "#gmailサイトへ遷移\n",
    "driver.get('https://mail.google.com/mail')"
   ]
  },
  {
   "cell_type": "markdown",
   "metadata": {},
   "source": [
    "# gmailログイン"
   ]
  },
  {
   "cell_type": "markdown",
   "metadata": {},
   "source": [
    "#### アドレス入力"
   ]
  },
  {
   "cell_type": "code",
   "execution_count": null,
   "metadata": {},
   "outputs": [],
   "source": [
    "#ログインページが表示されるまで待機\n",
    "login_container = WebDriverWait(driver, 5).until(\n",
    "    EC.visibility_of_element_located((By.CSS_SELECTOR, '*[id=\"initialView\"]'))\n",
    ")\n",
    "\n",
    "#メールアドレス入力boxを指定\n",
    "id_box = login_container.find_element_by_css_selector('*[id=\"identifierId\"]')\n",
    "#gmailアドレスを入力\n",
    "id_box.send_keys(gmail_address)\n",
    "\n",
    "#次へボタンクリック\n",
    "next_button = login_container.find_element_by_css_selector('*[id=\"identifierNext\"]')\n",
    "next_button.click()"
   ]
  },
  {
   "cell_type": "markdown",
   "metadata": {},
   "source": [
    "#### パスワード入力"
   ]
  },
  {
   "cell_type": "code",
   "execution_count": null,
   "metadata": {},
   "outputs": [],
   "source": [
    "#パスワード入力boxが表示されるまで待機\n",
    "WebDriverWait(login_container, 5).until(\n",
    "    EC.visibility_of_element_located((By.CSS_SELECTOR, '*[id=\"password\"]'))\n",
    ")\n",
    "sleep(0.5)\n",
    "\n",
    "#パスワード入力\n",
    "password_box = login_container.find_element_by_css_selector('*[class^=\"whsOnd\"]')\n",
    "password_box.clear()\n",
    "password_box.send_keys(gmail_password)\n",
    "\n",
    "#次へボタンクリック\n",
    "next_button = login_container.find_element_by_css_selector('*[id=\"passwordNext\"]')\n",
    "next_button.click()"
   ]
  },
  {
   "cell_type": "markdown",
   "metadata": {},
   "source": [
    "# メール作成"
   ]
  },
  {
   "cell_type": "markdown",
   "metadata": {},
   "source": [
    "#### 新規メール作成画面表示"
   ]
  },
  {
   "cell_type": "code",
   "execution_count": null,
   "metadata": {},
   "outputs": [],
   "source": [
    "#gmailページが表示されるまで待機\n",
    "gmail_window = WebDriverWait(driver, 20).until(\n",
    "    EC.visibility_of_element_located((By.CSS_SELECTOR, '*[class*=\"bkL\"]'))\n",
    ")\n",
    "\n",
    "#新規メール作成ボタンをクリック\n",
    "gmail_window.find_element_by_css_selector('*[class*=\"J-J5-Ji T-I-KE\"]').click()"
   ]
  },
  {
   "cell_type": "markdown",
   "metadata": {},
   "source": [
    " #### メール入力"
   ]
  },
  {
   "cell_type": "code",
   "execution_count": null,
   "metadata": {},
   "outputs": [],
   "source": [
    "#新規メールダイアログが表示されるまで待機\n",
    "mail_dialog = WebDriverWait(driver, 5).until(\n",
    "    EC.visibility_of_element_located((By.CSS_SELECTOR, '*[class*=\"nH Hd\"]'))\n",
    ")\n",
    "\n",
    "#宛先入力\n",
    "address_box = mail_dialog.find_element_by_css_selector('*[class^=\"vO\"]')\n",
    "address_box.send_keys(send_to)\n",
    "print(f'宛先: {send_to}')\n",
    "\n",
    "#件名入力\n",
    "title_box = mail_dialog.find_element_by_css_selector('*[class^=\"aoT\"]')\n",
    "title_box.send_keys(title)\n",
    "print(f'件名: {title}')\n",
    "\n",
    "#本文入力\n",
    "text_box = mail_dialog.find_element_by_css_selector('*[class^=\"Am Al\"]')\n",
    "text_box.send_keys(text)\n",
    "print(f'本文: {text}')"
   ]
  },
  {
   "cell_type": "markdown",
   "metadata": {},
   "source": [
    "#### 送信"
   ]
  },
  {
   "cell_type": "code",
   "execution_count": null,
   "metadata": {},
   "outputs": [],
   "source": [
    "#フッター指定\n",
    "footer = WebDriverWait(driver, 5).until(\n",
    "    EC.visibility_of_element_located((By.CSS_SELECTOR, '*[class=\"btC\"]'))\n",
    ")\n",
    "\n",
    "#送信ボタンクリック\n",
    "send_button = footer.find_element_by_css_selector('*[class^=\"T-I J-J5-Ji aoO\"]')\n",
    "print(send_button.text)\n",
    "send_button.click()"
   ]
  },
  {
   "cell_type": "code",
   "execution_count": null,
   "metadata": {},
   "outputs": [],
   "source": []
  }
 ],
 "metadata": {
  "kernelspec": {
   "display_name": "Python 3",
   "language": "python",
   "name": "python3"
  },
  "language_info": {
   "codemirror_mode": {
    "name": "ipython",
    "version": 3
   },
   "file_extension": ".py",
   "mimetype": "text/x-python",
   "name": "python",
   "nbconvert_exporter": "python",
   "pygments_lexer": "ipython3",
   "version": "3.7.4"
  }
 },
 "nbformat": 4,
 "nbformat_minor": 2
}
